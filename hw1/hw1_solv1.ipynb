{
 "cells": [
  {
   "cell_type": "markdown",
   "metadata": {},
   "source": [
    "### 統計學習初論 \n",
    "### Homework 1\n",
    "\n",
    "請將HTML檔上傳至Ceiba作業區。回答作業時建議使用 \"三明治\" 答題法。也就是說，先說明要做什麼，然後列出程式碼與結果，最後說明這些結果的意義。作業自己做。嚴禁抄襲。不接受紙本繳交，不接受遲交。請以英文或中文作答。\n"
   ]
  },
  {
   "cell_type": "markdown",
   "metadata": {},
   "source": [
    "### 第一題 [myknn_regressor]\n",
    "(50%) K-nearest-neighbors (KNN) is a power method to construct nonparametric regression models. The goal of this question is to construct your own KNN regressor. To simplify the question, we are going to use the \"brute-force\" method to find nearest neighbors. That is, we are not going to use specialized data structures such as the K-D tree to speed up the process. Given a set of $N$ training data points and a pre-defined hyper-parameter k, the prediction for a testing data point $x_a$ is computed by locating $k$ data points in the training data that is cloest to $x_a$. If the outcome values of the $k$ nearest neighbors are $\\mathbf{y}_a = \\{y_1, y_2, ..., y_k\\}$, then the prediction is $f(\\mathbf{y}_a)$, where $f$ is a real-valued function. We are going to consider two possible choices of $f$. The first option is  $f(\\mathbf{y}_a) = 1/k \\sum_{i=1}^k y_i.$ This is referred to as the \"equal-weight\" case. The other option is to compute the mean after removing outliers. We define outliers as the data points that are outside of $[Q1 - 1.5 IQR, Q3 + 1.5 IQR]$, where $Q1$ and $Q3$ are the first and third quantile of $\\mathbf{y}_a$, and $IQR = Q3 - Q1$. Since quantiles and IQR only make sense when there are enough neighbors, we allow the \"remove_outliers\" only if $k>=10$. If $k<10$, use the \"equal_weight\" $f$ even if the user specify the other way. \n",
    "\n",
    "Creat a Python class named myknn_regressor that can do predictions given training data and hyper-parameters. It should take the $k$ as the hyper-parameter for the number of neighbors. Moreover, the user can select $f$ by passing \"equal_weight\" or \"remove_outliers\" to switch between the two possible cases for $f$. \n",
    "\n",
    "The sample usage should be like the following:\n",
    "```python\n",
    "myknn = myknn_regressor(20, \"remove_outliers\")\n",
    "myknn.fit(X_train, Y_train)\n",
    "ypred = myknn.predict(X_test)\n",
    "```\n",
    "\n",
    "The first line initiates an myknn_regressor object with $k=20$ and selected \"remove_outliers\" for $f$; the second line train the model and the third line computes prediction. \n",
    "\n",
    "You are only allowed to use numpy in your own myknn_regressor class. You will receive a zero score if you adopted an existing KNN regressor such as those in scikit-learn. The input features and output predictions should be numpy arrays. If there is a tie in selecting neighbors, myknn_regressor should break the tie by choosing the data point that is located closer to the beginning of the training dataset. \n",
    "\n",
    "#### Dataset\n",
    "We are going to use a subset of the \"Million Songs Dataset\" in this question. The dataset has been pre-processed and the training and testing dataset has been splitted and stored in a dictionary data structure. You can load the data from from msd_data1.pickle using pickle.load(). There are four elements in the dictionary: x_train, y_train, x_test, y_test. As indicated by their names, these four elements are training and testing data. The outcome variable (i.e. $y$) is the year a song was released, and the features are variables that characterize the sound of a song. The goal is to predict the release year given sound features.\n",
    "\n",
    "Answer the following questions:\n",
    "\n",
    "* Q1.1 Create your myknn_regressor. \n",
    "* Q1.2 Load data from msd_data1.pickle. You should standardized all feature values so that all features have a zero mean and a unit variance before training a KNN model.  Make predictions using $k=20$ and \"equal_weight\" $f$. List the RMSE and the first 20 predictions in the testing data. \n",
    "* Q1.3 Load data from msd_data1.pickle. Standardized all feature values so that all features have a zero mean and unit variance.  Make predictions using $k=20$ and \"remove_outier\" $f$. List the RMSE and the first 20 predictions in the testing data. \n"
   ]
  },
  {
   "cell_type": "markdown",
   "metadata": {},
   "source": [
    "-------\n",
    "### Solution\n",
    "\n",
    "-------\n",
    "#### Q1.1\n",
    "Below is the definition of myknn_regressor:\n"
   ]
  },
  {
   "cell_type": "code",
   "execution_count": 1,
   "metadata": {},
   "outputs": [],
   "source": [
    "import numpy as np\n",
    "\n",
    "class myknn_regressor():\n",
    "    def __init__(self, n_neighbors = 10, mean_type = \"equal_weight\"):\n",
    "        \"\"\"mean_type can be equal_weight or remove_outliers.\n",
    "                              equal_weight use the same weight for all neighbors.\n",
    "                              remove_outliers remove neighbors out in [Q1 - 1.5 IQR, Q3 - 1.5IQR].  This is how box plot  detect outliers\"\"\"\n",
    "        self.k = n_neighbors\n",
    "        self.mean_type = mean_type\n",
    "        pass\n",
    "\n",
    "    def fit(self, x_train, y_train):\n",
    "        self.x_train = x_train.copy()\n",
    "        self.y_train = y_train.copy()\n",
    "\n",
    "    def predict(self, x_test):\n",
    "        \"\"\"use remove_outliers only if k>=5\"\"\"\n",
    "        ypred = []\n",
    "        for rowid in range(0, x_test.shape[0]):\n",
    "            # for rowid in [0, 1, 2]:\n",
    "            atest = x_test[rowid]\n",
    "            diff = self.x_train - atest\n",
    "            # diff2 = diff * diff\n",
    "            diffmse = np.sum(diff * diff, 1)\n",
    "\n",
    "            # mergesort is stable.\n",
    "            id_dist = np.argsort(diffmse, kind='mergesort')\n",
    "            yknn = self.y_train[id_dist[0:self.k]]\n",
    "\n",
    "            if (self.mean_type == \"equal_weight\"):\n",
    "                yout = np.mean(yknn)\n",
    "            else:\n",
    "                if self.k < 10:\n",
    "                    yout = np.mean(yknn)\n",
    "                else:\n",
    "                    # remove observation outside of 1.5IQR, and compute the mean.\n",
    "                    # this_iqr = iqr(yknn)\n",
    "                    q13 = np.quantile(yknn, [0.25, 0.75])\n",
    "                    iqc = q13[1] - q13[0]\n",
    "                    lower = q13[0] - 1.5 * iqc\n",
    "                    upper = q13[1] + 1.5 * iqc\n",
    "                    cond1 = np.logical_and(yknn > lower, yknn < upper)\n",
    "                    yknn2 = yknn[cond1]\n",
    "                    # if yknn2.shape[0] != yknn.shape[0]:\n",
    "                    #    print(\"yknn = \", yknn)\n",
    "                    #    print(\"yknn2 = \", yknn2)\n",
    "\n",
    "                    # print(q13)\n",
    "                    yout = np.mean(yknn2)\n",
    "\n",
    "            ypred.append(yout)\n",
    "        return(np.array(ypred))"
   ]
  },
  {
   "cell_type": "markdown",
   "metadata": {},
   "source": [
    "As mandated by the question, only use numpy functions in this class. The neighbors were sorted via ```np.argsort(diffmse, kind='mergesort')``` because we need to break the tie by the position of the training data. Since merge sort is a stable sorting algorithm, it will keep the original order if there is a tie. You should not use the default quick sort algorithm since it is not stable. "
   ]
  },
  {
   "cell_type": "markdown",
   "metadata": {},
   "source": [
    "#### Q1.2\n",
    "Doing prediction using \"equal_weight\" $f$. "
   ]
  },
  {
   "cell_type": "code",
   "execution_count": 2,
   "metadata": {},
   "outputs": [
    {
     "name": "stdout",
     "output_type": "stream",
     "text": [
      "RMSE (k=20) using 'equal_weight'= 10.251265\n",
      "The first 20 predictions are:\n",
      " [1993.35 1993.8  2000.65 1991.5  1992.8  1998.5  1988.1  1991.65 2002.25\n",
      " 2003.   2000.5  1998.65 1995.55 1997.2  1995.05 1997.4  1992.15 2000.45\n",
      " 2003.2  1995.75]\n"
     ]
    }
   ],
   "source": [
    "import pickle\n",
    "from sklearn import preprocessing\n",
    "from sklearn.neighbors import KNeighborsRegressor\n",
    "import numpy as np\n",
    "\n",
    "#Load data\n",
    "with open('data/msd_data1.pickle', 'rb') as fh1:\n",
    "    msd_data = pickle.load(fh1)\n",
    "\n",
    "doscaling = 1\n",
    "\n",
    "if (doscaling == 1):\n",
    "    xscaler = preprocessing.StandardScaler().fit(msd_data['X_train'])\n",
    "    #standardize feature values\n",
    "    X_train = xscaler.transform(msd_data['X_train'])\n",
    "    X_test = xscaler.transform(msd_data['X_test'])\n",
    "else:\n",
    "    X_train = msd_data['X_train']\n",
    "    X_test = msd_data['X_test']\n",
    "\n",
    "Y_train = msd_data['Y_train']\n",
    "Y_test = msd_data['Y_test']\n",
    "\n",
    "#make prediction\n",
    "thek=20\n",
    "myknn = myknn_regressor(thek, \"equal_weight\")\n",
    "myknn.fit(X_train, Y_train)\n",
    "ypred = myknn.predict(X_test)\n",
    "rmse1 = np.sqrt(np.mean(np.square(Y_test - ypred)))\n",
    "\n",
    "print(\"RMSE (k=%d) using 'equal_weight'= %f\" % (thek, rmse1))\n",
    "print(\"The first 20 predictions are:\\n\", ypred[0:20])\n"
   ]
  },
  {
   "cell_type": "markdown",
   "metadata": {},
   "source": [
    "The RMSE suggest that the average error is 10.2512 years. "
   ]
  },
  {
   "cell_type": "markdown",
   "metadata": {},
   "source": [
    "#### Q1.3\n",
    "Doing prediction using \"remove_outliers\" $f$. "
   ]
  },
  {
   "cell_type": "code",
   "execution_count": 3,
   "metadata": {},
   "outputs": [
    {
     "name": "stdout",
     "output_type": "stream",
     "text": [
      "RMSE (k=20) using 'remove_outliers'= 10.219095\n",
      "The first 20 predictions are:\n",
      " [1993.35       1993.8        2000.65       1992.73684211 1992.8\n",
      " 2000.         1988.1        1991.65       2002.25       2003.94736842\n",
      " 2000.5        2000.94444444 1995.55       1997.2        1998.61111111\n",
      " 1997.4        1992.15       2003.83333333 2003.2        1995.75      ]\n"
     ]
    }
   ],
   "source": [
    "thek=20\n",
    "myknn = myknn_regressor(thek, \"remove_outliers\")\n",
    "myknn.fit(X_train, Y_train)\n",
    "ypred2 = myknn.predict(X_test)\n",
    "rmse2 = np.sqrt(np.mean(np.square(Y_test - ypred2)))\n",
    "\n",
    "print(\"RMSE (k=%d) using 'remove_outliers'= %f\" % (thek, rmse2))\n",
    "print(\"The first 20 predictions are:\\n\", ypred2[0:20])"
   ]
  },
  {
   "cell_type": "markdown",
   "metadata": {},
   "source": [
    "The RMSE (10.219095 years) is smaller than the \"equal_weight\" $f$. This may be a general case or it just happen to have a better RMSE for this particular setting. Need more systematic evaluation in order to know whether \"remove_outliers\" is indeed better. "
   ]
  },
  {
   "cell_type": "markdown",
   "metadata": {},
   "source": [
    "### 第二題 [Tuning the Hyper-parameter]\n",
    "(50%) We are going to explore the issue of hyper-parameter tuning in this question. We are going to consider three cases in this question. Use the knn regressor from klearn.neighbors.KNeighborsRegressor for the first two cases, and your own myknn_regressor for the third cases. \n",
    "\n",
    "For each case, use the data from msd_data1.pickle to train and test the KNN models. Compute the RMSE on the testing dataset using $k=1, 2, 3, 4, 5, 10, 15, 20, 25, 30, 35, 40, 45, 50, 55, 60, 80, 100, 120, 140, 160, 180, 200$. In the first case, all feature values are standardize to have unit variances and zero means. As for the second case, do not apply feature scaling. The third case use standardized feature and adopted myknn_regressor with \"remove_outlier\" $f$ to make prediction. \n",
    "\n",
    "For each case, plot a curve that shows the relations between $k$ (x-axis) and RMSE (y-axis). If possible, plot the three curves in the same figure so that we can visually inspect their dynamics. Discuss your observations. \n",
    "\n",
    "------\n",
    "#### Solution\n",
    "------\n",
    "Run the three cases and put the results in three lists. "
   ]
  },
  {
   "cell_type": "code",
   "execution_count": 4,
   "metadata": {},
   "outputs": [
    {
     "name": "stdout",
     "output_type": "stream",
     "text": [
      "knn1 rmse (k=1) = 13.911075\n",
      "knn2 rmse (k=1) = 14.923639\n",
      "myknn rmse (k=1) using 'remove_outliers'= 13.911075\n",
      "knn1 rmse (k=2) = 12.068171\n",
      "knn2 rmse (k=2) = 12.777500\n",
      "myknn rmse (k=2) using 'remove_outliers'= 12.068171\n",
      "knn1 rmse (k=3) = 11.389121\n",
      "knn2 rmse (k=3) = 12.075675\n",
      "myknn rmse (k=3) using 'remove_outliers'= 11.389121\n",
      "knn1 rmse (k=4) = 11.112335\n",
      "knn2 rmse (k=4) = 11.767806\n",
      "myknn rmse (k=4) using 'remove_outliers'= 11.112335\n",
      "knn1 rmse (k=5) = 10.894693\n",
      "knn2 rmse (k=5) = 11.466393\n",
      "myknn rmse (k=5) using 'remove_outliers'= 10.894693\n",
      "knn1 rmse (k=10) = 10.425999\n",
      "knn2 rmse (k=10) = 11.077461\n",
      "myknn rmse (k=10) using 'remove_outliers'= 10.472533\n",
      "knn1 rmse (k=15) = 10.318172\n",
      "knn2 rmse (k=15) = 10.888979\n",
      "myknn rmse (k=15) using 'remove_outliers'= 10.298177\n",
      "knn1 rmse (k=20) = 10.251265\n",
      "knn2 rmse (k=20) = 10.797789\n",
      "myknn rmse (k=20) using 'remove_outliers'= 10.219095\n",
      "knn1 rmse (k=25) = 10.237627\n",
      "knn2 rmse (k=25) = 10.790073\n",
      "myknn rmse (k=25) using 'remove_outliers'= 10.190656\n",
      "knn1 rmse (k=30) = 10.215977\n",
      "knn2 rmse (k=30) = 10.750266\n",
      "myknn rmse (k=30) using 'remove_outliers'= 10.136597\n",
      "knn1 rmse (k=35) = 10.205243\n",
      "knn2 rmse (k=35) = 10.717739\n",
      "myknn rmse (k=35) using 'remove_outliers'= 10.110301\n",
      "knn1 rmse (k=40) = 10.204333\n",
      "knn2 rmse (k=40) = 10.714438\n",
      "myknn rmse (k=40) using 'remove_outliers'= 10.090486\n",
      "knn1 rmse (k=45) = 10.207243\n",
      "knn2 rmse (k=45) = 10.698494\n",
      "myknn rmse (k=45) using 'remove_outliers'= 10.081790\n",
      "knn1 rmse (k=50) = 10.206034\n",
      "knn2 rmse (k=50) = 10.691101\n",
      "myknn rmse (k=50) using 'remove_outliers'= 10.085136\n",
      "knn1 rmse (k=55) = 10.208862\n",
      "knn2 rmse (k=55) = 10.682609\n",
      "myknn rmse (k=55) using 'remove_outliers'= 10.060454\n",
      "knn1 rmse (k=60) = 10.217003\n",
      "knn2 rmse (k=60) = 10.672536\n",
      "myknn rmse (k=60) using 'remove_outliers'= 10.075581\n",
      "knn1 rmse (k=80) = 10.231954\n",
      "knn2 rmse (k=80) = 10.662908\n",
      "myknn rmse (k=80) using 'remove_outliers'= 10.061345\n",
      "knn1 rmse (k=100) = 10.247296\n",
      "knn2 rmse (k=100) = 10.677020\n",
      "myknn rmse (k=100) using 'remove_outliers'= 10.061862\n",
      "knn1 rmse (k=120) = 10.264908\n",
      "knn2 rmse (k=120) = 10.683140\n",
      "myknn rmse (k=120) using 'remove_outliers'= 10.065481\n",
      "knn1 rmse (k=140) = 10.287098\n",
      "knn2 rmse (k=140) = 10.687018\n",
      "myknn rmse (k=140) using 'remove_outliers'= 10.088452\n",
      "knn1 rmse (k=160) = 10.317789\n",
      "knn2 rmse (k=160) = 10.691630\n",
      "myknn rmse (k=160) using 'remove_outliers'= 10.110648\n",
      "knn1 rmse (k=180) = 10.330996\n",
      "knn2 rmse (k=180) = 10.690720\n",
      "myknn rmse (k=180) using 'remove_outliers'= 10.125688\n",
      "knn1 rmse (k=200) = 10.351940\n",
      "knn2 rmse (k=200) = 10.698853\n",
      "myknn rmse (k=200) using 'remove_outliers'= 10.145532\n"
     ]
    },
    {
     "data": {
      "image/png": "[encoded data removed]",
      "text/plain": [
       "<Figure size 780x520 with 1 Axes>"
      ]
     },
     "metadata": {},
     "output_type": "display_data"
    }
   ],
   "source": [
    "#load the dataset, and create normalized and raw features. \n",
    "import pickle\n",
    "from sklearn import preprocessing\n",
    "from sklearn.neighbors import KNeighborsRegressor\n",
    "import numpy as np\n",
    "import matplotlib.pyplot as plt\n",
    "%matplotlib inline\n",
    "\n",
    "#Load data\n",
    "with open('data/msd_data1.pickle', 'rb') as fh1:\n",
    "    msd_data = pickle.load(fh1)\n",
    "\n",
    "xscaler = preprocessing.StandardScaler().fit(msd_data['X_train'])\n",
    "#standardize feature values\n",
    "X_train_sd = xscaler.transform(msd_data['X_train'])\n",
    "X_test_sd = xscaler.transform(msd_data['X_test'])\n",
    "\n",
    "#use raw values\n",
    "X_train = msd_data['X_train']\n",
    "X_test = msd_data['X_test']\n",
    "\n",
    "#outcome values\n",
    "Y_train = msd_data['Y_train']\n",
    "Y_test = msd_data['Y_test']\n",
    "\n",
    "\n",
    "\n",
    "kgrid = [1,2,3,4,5,10,15,20,25,30,35,40,45,50,55,60,80,100,120,140,160,180,200]\n",
    "#kgrid = [1,5,10,30,50]\n",
    "knnrmse1 = [] # case 1\n",
    "knnrmse2 = [] # case 2\n",
    "knnrmse3 = [] # case 3\n",
    "for k in kgrid:\n",
    "    #case 1\n",
    "    neigh = KNeighborsRegressor(n_neighbors=k, algorithm='ball_tree')\n",
    "    knn1 = neigh.fit(X_train_sd, Y_train)\n",
    "    pred1 = knn1.predict(X_test_sd)\n",
    "    rmse1 = np.sqrt(np.mean(np.square(Y_test - pred1)))\n",
    "    print(\"knn1 rmse (k=%d) = %f\" % (k, rmse1))\n",
    "    knnrmse1.append(rmse1)\n",
    "    #case 2\n",
    "    knn2 = neigh.fit(X_train, Y_train)\n",
    "    pred2 = knn2.predict(X_test)\n",
    "    rmse2 = np.sqrt(np.mean(np.square(Y_test - pred2)))\n",
    "    print(\"knn2 rmse (k=%d) = %f\" % (k, rmse2))\n",
    "    knnrmse2.append(rmse2)\n",
    "    #case 3\n",
    "    myknn = myknn_regressor(k, \"remove_outliers\")\n",
    "    myknn.fit(X_train_sd, Y_train)\n",
    "    ypred3 = myknn.predict(X_test_sd)\n",
    "    rmse3 = np.sqrt(np.mean(np.square(Y_test - ypred3)))\n",
    "    print(\"myknn rmse (k=%d) using 'remove_outliers'= %f\" % (k, rmse3))\n",
    "    knnrmse3.append(rmse3)\n",
    "    \n",
    "    \n",
    "\n",
    "    \n",
    "fig, ax = plt.subplots(dpi= 130)\n",
    "#ax.set_ylim([9, 14.5])\n",
    "ax.plot(kgrid, knnrmse1, \"-.\", label=\"KNN1 (Std. Features)\")\n",
    "ax.plot(kgrid, knnrmse2, \"-.\", label=\"KNN2 (Raw Feature)\")\n",
    "ax.plot(kgrid, knnrmse3, \"-.\", label=\"Myknn (Remove Outliers)\")\n",
    "\n",
    "\n",
    "legend = ax.legend(loc='upper right', shadow=True, fontsize='medium')\n",
    "ax.set(xlabel='k', ylabel='RMSE', title='RMSE Comparison')\n",
    "plt.show()    \n",
    "    \n",
    "    \n",
    "    "
   ]
  },
  {
   "cell_type": "markdown",
   "metadata": {},
   "source": [
    "There is a clear U-shape for each of the three cases. The best RMSE for the three cases are: 10.204 (k=40) for Case 1, 10.663 (k=80) for Case 2, and 10.060 (k=55) for Case 3. It looks like Case 3, our own myknn_regressor is the best model at least using this particular dataset. \n",
    "\n",
    "Another important question is why myknn_regressor is better. There are many variations in KNN. The most commonly used setting is Euclidian distance with standardized features and run predictions with equal weighting. This setting is popular because KNN is usually considered as a \"baseline\" model, and a \"vanilla\" setting is usually good enough. However, there are indeed many small places that can be further improved even for this very simply approach. \n"
   ]
  }
 ],
 "metadata": {
  "kernelspec": {
   "display_name": "Python 3",
   "language": "python",
   "name": "python3"
  },
  "language_info": {
   "codemirror_mode": {
    "name": "ipython",
    "version": 3
   },
   "file_extension": ".py",
   "mimetype": "text/x-python",
   "name": "python",
   "nbconvert_exporter": "python",
   "pygments_lexer": "ipython3",
   "version": "3.7.6"
  }
 },
 "nbformat": 4,
 "nbformat_minor": 4
}
